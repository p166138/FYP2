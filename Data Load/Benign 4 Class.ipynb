{
 "cells": [
  {
   "cell_type": "code",
   "execution_count": 1,
   "metadata": {},
   "outputs": [],
   "source": [
    "import numpy as np\n",
    "from glob import glob\n",
    "import matplotlib.pyplot as plt\n",
    "from tqdm import tqdm\n",
    "import cv2\n",
    "import fnmatch\n",
    "import pandas as pd\n",
    "import threading\n",
    "import math\n",
    "from numpy import save, load"
   ]
  },
  {
   "cell_type": "code",
   "execution_count": 16,
   "metadata": {},
   "outputs": [],
   "source": [
    "imagePatches = glob('.\\data\\benign\\**\\*.png', recursive=True)\n",
    "for filename in imagePatches[0:10]:\n",
    "    print(filename)"
   ]
  },
  {
   "cell_type": "code",
   "execution_count": 8,
   "metadata": {},
   "outputs": [],
   "source": [
    "patternZero1 = '*SOB_B_A-14-[0-9]*AB-[0-9]*-[0-9]*.png'\n",
    "patternZero2 = '*SOB_B_A-14-[0-9]*CD-[0-9]*-[0-9]*.png'\n",
    "patternZero3 = '*SOB_B_A-14-[0-9]*G-[0-9]*-[0-9]*.png'\n",
    "patternOne1 = '*SOB_B_F-14-[0-9]*-[0-9]*-[0-9]*.png'\n",
    "patternOne2 = '*SOB_B_F-14-[0-9]*E-[0-9]*-[0-9]*.png'\n",
    "patternOne3 = '*SOB_B_F-14-[0-9]*AB-[0-9]*-[0-9]*.png'\n",
    "patternOne4 = '*SOB_B_F-14-[0-9]*CD-[0-9]*-[0-9]*.png'\n",
    "patternOne5 = '*SOB_B_F-14-[0-9]*EF-[0-9]*-[0-9]*.png'\n",
    "patternTwo1 = '*SOB_B_PT-14-[0-9]*AB-[0-9]*-[0-9]*.png'\n",
    "patternTwo2 = '*SOB_B_PT-14-[0-9]*EF-[0-9]*-[0-9]*.png'\n",
    "patternTwo3 = '*SOB_B_PT-14-[0-9]*-[0-9]*-[0-9]*.png'\n",
    "patternThree1 = '*SOB_B_TA-14-[0-9]*-[0-9]*-[0-9]*.png'\n",
    "patternThree2 = '*SOB_B_TA-14-[0-9]*AB-[0-9]*-[0-9]*.png'\n",
    "patternThree3 = '*SOB_B_TA-14-[0-9]*F-[0-9]*-[0-9]*.png'\n",
    "patternThree4 = '*SOB_B_TA-14-[0-9]*CD-[0-9]*-[0-9]*.png'\n",
    "patternThree5 = '*SOB_B_TA-14-[0-9]*C-[0-9]*-[0-9]*.png'\n",
    "# patternFour = '*SOB_M_DC-14-[0-9]*-[0-9]*-[0-9]*.png'\n",
    "# patternFive1 = '*SOB_M_LC-14-[0-9]*-[0-9]*-[0-9]*.png'\n",
    "# patternFive2 = '*SOB_M_LC-14-[0-9]*C-[0-9]*-[0-9]*.png'\n",
    "# patternSix1 = '*SOB_M_MC-14-[0-9]*-[0-9]*-[0-9]*.png'\n",
    "# patternSix2 = '*SOB_M_MC-14-[0-9]*DE-[0-9]*-[0-9]*.png'\n",
    "# patternSix3 = '*SOB_M_MC-14-[0-9]*D-[0-9]*-[0-9]*.png'\n",
    "# patternSix4 = '*SOB_M_MC-14-[0-9]*C-[0-9]*-[0-9]*.png'\n",
    "# patternSeven1 = '*SOB_M_PC-14-[0-9]*-[0-9]*-[0-9]*.png'\n",
    "# patternSeven2 = '*SOB_M_PC-14-[0-9]*B-[0-9]*-[0-9]*.png'\n",
    "# patternSeven3 = '*SOB_M_PC-15-[0-9]*EF-[0-9]*-[0-9]*.png'\n",
    "classZero1 = fnmatch.filter(imagePatches, patternZero1)\n",
    "classZero2 = fnmatch.filter(imagePatches, patternZero2)\n",
    "classZero3 = fnmatch.filter(imagePatches, patternZero3)\n",
    "classOne1 = fnmatch.filter(imagePatches, patternOne1)\n",
    "classOne2 = fnmatch.filter(imagePatches, patternOne2)\n",
    "classOne3 = fnmatch.filter(imagePatches, patternOne3)\n",
    "classOne4 = fnmatch.filter(imagePatches, patternOne4)\n",
    "classOne5 = fnmatch.filter(imagePatches, patternOne5)\n",
    "classTwo1 = fnmatch.filter(imagePatches, patternTwo1)\n",
    "classTwo2 = fnmatch.filter(imagePatches, patternTwo2)\n",
    "classTwo3 = fnmatch.filter(imagePatches, patternTwo3)\n",
    "classThree1 = fnmatch.filter(imagePatches, patternThree1)\n",
    "classThree2 = fnmatch.filter(imagePatches, patternThree2)\n",
    "classThree3 = fnmatch.filter(imagePatches, patternThree3)\n",
    "classThree4 = fnmatch.filter(imagePatches, patternThree4)\n",
    "classThree5 = fnmatch.filter(imagePatches, patternThree5)\n",
    "# classFour = fnmatch.filter(imagePatches, patternFour)\n",
    "# classFive1 = fnmatch.filter(imagePatches, patternFive1)\n",
    "# classFive2 = fnmatch.filter(imagePatches, patternFive2)\n",
    "# classSix1 = fnmatch.filter(imagePatches, patternSix1)\n",
    "# classSix2 = fnmatch.filter(imagePatches, patternSix2)\n",
    "# classSix3 = fnmatch.filter(imagePatches, patternSix3)\n",
    "# classSix4 = fnmatch.filter(imagePatches, patternSix4)\n",
    "# classSeven1 = fnmatch.filter(imagePatches, patternSeven1)\n",
    "# classSeven2 = fnmatch.filter(imagePatches, patternSeven2)\n",
    "# classSeven3 = fnmatch.filter(imagePatches, patternSeven3)"
   ]
  },
  {
   "cell_type": "code",
   "execution_count": 9,
   "metadata": {},
   "outputs": [],
   "source": [
    "def proc_images():\n",
    "    x = []\n",
    "    y = []\n",
    "    WIDTH = 700\n",
    "    HEIGHT = 460\n",
    "    for img in tqdm(imagePatches):\n",
    "        full_size_image = cv2.imread(img)\n",
    "        x.append(cv2.resize(full_size_image, (WIDTH,HEIGHT), interpolation=cv2.INTER_CUBIC))\n",
    "        if img in classZero1:\n",
    "            y.append(0)\n",
    "        elif img in classZero2:\n",
    "            y.append(0)\n",
    "        elif img in classZero3:\n",
    "            y.append(0)\n",
    "        elif img in classOne1:\n",
    "            y.append(1)\n",
    "        elif img in classOne2:\n",
    "            y.append(1)\n",
    "        elif img in classOne3:\n",
    "            y.append(1)\n",
    "        elif img in classOne4:\n",
    "            y.append(1)\n",
    "        elif img in classOne5:\n",
    "            y.append(1)\n",
    "        elif img in classTwo1:\n",
    "            y.append(2)\n",
    "        elif img in classTwo2:\n",
    "            y.append(2)\n",
    "        elif img in classTwo3:\n",
    "            y.append(2)\n",
    "        elif img in classThree1:\n",
    "            y.append(3)\n",
    "        elif img in classThree2:\n",
    "            y.append(3)\n",
    "        elif img in classThree3:\n",
    "            y.append(3)\n",
    "        elif img in classThree4:\n",
    "            y.append(3)\n",
    "        elif img in classThree5:\n",
    "            y.append(3)\n",
    "#         elif img in classFour:\n",
    "#             y.append(4)\n",
    "#         elif img in classFive1:\n",
    "#             y.append(5)\n",
    "#         elif img in classFive2:\n",
    "#             y.append(5)\n",
    "#         elif img in classSix1:\n",
    "#             y.append(6)\n",
    "#         elif img in classSix2:\n",
    "#             y.append(6)\n",
    "#         elif img in classSix3:\n",
    "#             y.append(6)\n",
    "#         elif img in classSix4:\n",
    "#             y.append(6)\n",
    "#         elif img in classSeven1:\n",
    "#             y.append(7)\n",
    "#         elif img in classSeven2:\n",
    "#             y.append(7)\n",
    "#         elif img in classSeven3:\n",
    "#             y.append(7)\n",
    "        else:\n",
    "            return\n",
    "    return x,y"
   ]
  },
  {
   "cell_type": "code",
   "execution_count": 10,
   "metadata": {},
   "outputs": [
    {
     "name": "stderr",
     "output_type": "stream",
     "text": [
      "100%|██████████████████████████████████████████████████████████████████████████████| 2480/2480 [00:41<00:00, 59.33it/s]\n"
     ]
    }
   ],
   "source": [
    "X,Y = proc_images()\n"
   ]
  },
  {
   "cell_type": "code",
   "execution_count": 11,
   "metadata": {},
   "outputs": [],
   "source": [
    "X = np.asarray(X)\n",
    "X = X.astype(np.uint8)\n",
    "Y = np.asarray(Y)\n",
    "Y = Y.astype(np.uint8)\n"
   ]
  },
  {
   "cell_type": "code",
   "execution_count": 12,
   "metadata": {},
   "outputs": [
    {
     "data": {
      "text/plain": [
       "dtype('uint8')"
      ]
     },
     "execution_count": 12,
     "metadata": {},
     "output_type": "execute_result"
    }
   ],
   "source": [
    "X.dtype"
   ]
  },
  {
   "cell_type": "code",
   "execution_count": 13,
   "metadata": {},
   "outputs": [],
   "source": [
    "save(\"images.npy\", np.asarray(X))\n",
    "save(\"labels.npy\", np.asarray(Y))"
   ]
  },
  {
   "cell_type": "code",
   "execution_count": null,
   "metadata": {},
   "outputs": [],
   "source": [
    "X = load(\"images.npy\")\n",
    "Y = load(\"labels.npy\")\n",
    "print(\"X shape: \", X.shape)\n",
    "print(\"Y shape: \", Y.shape)"
   ]
  },
  {
   "cell_type": "code",
   "execution_count": 15,
   "metadata": {},
   "outputs": [],
   "source": [
    "cv2.imshow(\"A\",X[2000])\n",
    "              \n",
    "  \n",
    "\n",
    "cv2.waitKey(0)  \n",
    "  \n",
    "\n",
    "cv2.destroyAllWindows() "
   ]
  },
  {
   "cell_type": "code",
   "execution_count": null,
   "metadata": {},
   "outputs": [],
   "source": []
  }
 ],
 "metadata": {
  "kernelspec": {
   "display_name": "Python 3",
   "language": "python",
   "name": "python3"
  },
  "language_info": {
   "codemirror_mode": {
    "name": "ipython",
    "version": 3
   },
   "file_extension": ".py",
   "mimetype": "text/x-python",
   "name": "python",
   "nbconvert_exporter": "python",
   "pygments_lexer": "ipython3",
   "version": "3.6.9"
  }
 },
 "nbformat": 4,
 "nbformat_minor": 4
}
